{
 "cells": [
  {
   "cell_type": "code",
   "execution_count": 1,
   "metadata": {},
   "outputs": [],
   "source": [
    "import os\n",
    "import numpy as np\n",
    "import pandas as pd\n",
    "\n",
    "os.environ['ASTEROESTIMATE_DATA'] = ''\n",
    "\n",
    "from astropy.io import fits\n",
    "from matplotlib import pyplot as plt\n",
    "from asteroestimate.priors import priors"
   ]
  },
  {
   "cell_type": "markdown",
   "metadata": {},
   "source": [
    "Some example JHK and parallax data for testing"
   ]
  },
  {
   "cell_type": "code",
   "execution_count": 3,
   "metadata": {},
   "outputs": [
    {
     "data": {
      "text/html": [
       "<div>\n",
       "<style scoped>\n",
       "    .dataframe tbody tr th:only-of-type {\n",
       "        vertical-align: middle;\n",
       "    }\n",
       "\n",
       "    .dataframe tbody tr th {\n",
       "        vertical-align: top;\n",
       "    }\n",
       "\n",
       "    .dataframe thead th {\n",
       "        text-align: right;\n",
       "    }\n",
       "</style>\n",
       "<table border=\"1\" class=\"dataframe\">\n",
       "  <thead>\n",
       "    <tr style=\"text-align: right;\">\n",
       "      <th></th>\n",
       "      <th>KIC</th>\n",
       "      <th>gaia_source_id</th>\n",
       "      <th>nearest_neighbour</th>\n",
       "      <th>APOGEE_ID</th>\n",
       "      <th>TELESCOPE</th>\n",
       "      <th>FIELD</th>\n",
       "      <th>J</th>\n",
       "      <th>J_ERR</th>\n",
       "      <th>H</th>\n",
       "      <th>H_ERR</th>\n",
       "      <th>...</th>\n",
       "      <th>GAIA_PHOT_G_MEAN_MAG</th>\n",
       "      <th>GAIA_PHOT_BP_MEAN_MAG</th>\n",
       "      <th>GAIA_PHOT_RP_MEAN_MAG</th>\n",
       "      <th>GAIA_RADIAL_VELOCITY</th>\n",
       "      <th>GAIA_RADIAL_VELOCITY_ERROR</th>\n",
       "      <th>GAIA_R_EST</th>\n",
       "      <th>GAIA_R_LO</th>\n",
       "      <th>GAIA_R_HI</th>\n",
       "      <th>TEFF_SPEC</th>\n",
       "      <th>LOGG_SPEC</th>\n",
       "    </tr>\n",
       "  </thead>\n",
       "  <tbody>\n",
       "    <tr>\n",
       "      <th>0</th>\n",
       "      <td>1435467</td>\n",
       "      <td>2051714265379610624</td>\n",
       "      <td>1</td>\n",
       "      <td>2M19281984+3703353</td>\n",
       "      <td>apo25m</td>\n",
       "      <td>K21_071+10</td>\n",
       "      <td>7.983</td>\n",
       "      <td>0.024</td>\n",
       "      <td>7.753</td>\n",
       "      <td>0.023</td>\n",
       "      <td>...</td>\n",
       "      <td>8.779618</td>\n",
       "      <td>9.048191</td>\n",
       "      <td>8.394376</td>\n",
       "      <td>-66.203125</td>\n",
       "      <td>1.501399</td>\n",
       "      <td>136.680252</td>\n",
       "      <td>136.114654</td>\n",
       "      <td>137.250486</td>\n",
       "      <td>6231.0</td>\n",
       "      <td>4.2798</td>\n",
       "    </tr>\n",
       "    <tr>\n",
       "      <th>1</th>\n",
       "      <td>2010607</td>\n",
       "      <td>2051083248784888576</td>\n",
       "      <td>1</td>\n",
       "      <td>2M19220135+3727324</td>\n",
       "      <td>apo25m</td>\n",
       "      <td>K21_071+10</td>\n",
       "      <td>10.427</td>\n",
       "      <td>0.020</td>\n",
       "      <td>10.204</td>\n",
       "      <td>0.021</td>\n",
       "      <td>...</td>\n",
       "      <td>11.325376</td>\n",
       "      <td>11.604352</td>\n",
       "      <td>10.907462</td>\n",
       "      <td>26.484421</td>\n",
       "      <td>3.964574</td>\n",
       "      <td>622.302888</td>\n",
       "      <td>612.171218</td>\n",
       "      <td>632.769344</td>\n",
       "      <td>6418.2</td>\n",
       "      <td>4.2071</td>\n",
       "    </tr>\n",
       "    <tr>\n",
       "      <th>2</th>\n",
       "      <td>2309595</td>\n",
       "      <td>2051847684243759104</td>\n",
       "      <td>1</td>\n",
       "      <td>2M19313636+3737281</td>\n",
       "      <td>apo25m</td>\n",
       "      <td>K21_071+10</td>\n",
       "      <td>10.040</td>\n",
       "      <td>0.022</td>\n",
       "      <td>9.604</td>\n",
       "      <td>0.020</td>\n",
       "      <td>...</td>\n",
       "      <td>11.400895</td>\n",
       "      <td>11.876257</td>\n",
       "      <td>10.790239</td>\n",
       "      <td>-8.975527</td>\n",
       "      <td>0.232411</td>\n",
       "      <td>388.144043</td>\n",
       "      <td>383.960360</td>\n",
       "      <td>392.418238</td>\n",
       "      <td>5060.1</td>\n",
       "      <td>3.7762</td>\n",
       "    </tr>\n",
       "    <tr>\n",
       "      <th>3</th>\n",
       "      <td>2450729</td>\n",
       "      <td>2051667914096024448</td>\n",
       "      <td>1</td>\n",
       "      <td>2M19321765+3742592</td>\n",
       "      <td>apo25m</td>\n",
       "      <td>K21_071+10</td>\n",
       "      <td>9.585</td>\n",
       "      <td>0.020</td>\n",
       "      <td>9.333</td>\n",
       "      <td>0.019</td>\n",
       "      <td>...</td>\n",
       "      <td>10.625102</td>\n",
       "      <td>10.949538</td>\n",
       "      <td>10.163091</td>\n",
       "      <td>-9999.000000</td>\n",
       "      <td>-9999.000000</td>\n",
       "      <td>272.879315</td>\n",
       "      <td>270.699322</td>\n",
       "      <td>275.094068</td>\n",
       "      <td>5947.8</td>\n",
       "      <td>4.1299</td>\n",
       "    </tr>\n",
       "    <tr>\n",
       "      <th>4</th>\n",
       "      <td>2837475</td>\n",
       "      <td>2099526837747055232</td>\n",
       "      <td>1</td>\n",
       "      <td>2M19101163+3804559</td>\n",
       "      <td>apo25m</td>\n",
       "      <td>K18_070+14</td>\n",
       "      <td>7.649</td>\n",
       "      <td>0.021</td>\n",
       "      <td>7.481</td>\n",
       "      <td>0.016</td>\n",
       "      <td>...</td>\n",
       "      <td>8.398082</td>\n",
       "      <td>8.630020</td>\n",
       "      <td>8.054980</td>\n",
       "      <td>-13.817216</td>\n",
       "      <td>0.404882</td>\n",
       "      <td>120.822548</td>\n",
       "      <td>120.397991</td>\n",
       "      <td>121.250057</td>\n",
       "      <td>6581.1</td>\n",
       "      <td>4.3102</td>\n",
       "    </tr>\n",
       "  </tbody>\n",
       "</table>\n",
       "<p>5 rows × 200 columns</p>\n",
       "</div>"
      ],
      "text/plain": [
       "       KIC       gaia_source_id  nearest_neighbour           APOGEE_ID  \\\n",
       "0  1435467  2051714265379610624                  1  2M19281984+3703353   \n",
       "1  2010607  2051083248784888576                  1  2M19220135+3727324   \n",
       "2  2309595  2051847684243759104                  1  2M19313636+3737281   \n",
       "3  2450729  2051667914096024448                  1  2M19321765+3742592   \n",
       "4  2837475  2099526837747055232                  1  2M19101163+3804559   \n",
       "\n",
       "  TELESCOPE       FIELD       J  J_ERR       H  H_ERR  ...  \\\n",
       "0    apo25m  K21_071+10   7.983  0.024   7.753  0.023  ...   \n",
       "1    apo25m  K21_071+10  10.427  0.020  10.204  0.021  ...   \n",
       "2    apo25m  K21_071+10  10.040  0.022   9.604  0.020  ...   \n",
       "3    apo25m  K21_071+10   9.585  0.020   9.333  0.019  ...   \n",
       "4    apo25m  K18_070+14   7.649  0.021   7.481  0.016  ...   \n",
       "\n",
       "   GAIA_PHOT_G_MEAN_MAG  GAIA_PHOT_BP_MEAN_MAG  GAIA_PHOT_RP_MEAN_MAG  \\\n",
       "0              8.779618               9.048191               8.394376   \n",
       "1             11.325376              11.604352              10.907462   \n",
       "2             11.400895              11.876257              10.790239   \n",
       "3             10.625102              10.949538              10.163091   \n",
       "4              8.398082               8.630020               8.054980   \n",
       "\n",
       "   GAIA_RADIAL_VELOCITY  GAIA_RADIAL_VELOCITY_ERROR  GAIA_R_EST   GAIA_R_LO  \\\n",
       "0            -66.203125                    1.501399  136.680252  136.114654   \n",
       "1             26.484421                    3.964574  622.302888  612.171218   \n",
       "2             -8.975527                    0.232411  388.144043  383.960360   \n",
       "3          -9999.000000                -9999.000000  272.879315  270.699322   \n",
       "4            -13.817216                    0.404882  120.822548  120.397991   \n",
       "\n",
       "    GAIA_R_HI  TEFF_SPEC  LOGG_SPEC  \n",
       "0  137.250486     6231.0     4.2798  \n",
       "1  632.769344     6418.2     4.2071  \n",
       "2  392.418238     5060.1     3.7762  \n",
       "3  275.094068     5947.8     4.1299  \n",
       "4  121.250057     6581.1     4.3102  \n",
       "\n",
       "[5 rows x 200 columns]"
      ]
     },
     "execution_count": 3,
     "metadata": {},
     "output_type": "execute_result"
    }
   ],
   "source": [
    "df = pd.read_csv('../../kepler-dwarfs/data/spectroscopy/s17_gaia_4arcsec_apogeeDR16.csv')\n",
    "df.head()"
   ]
  },
  {
   "cell_type": "code",
   "execution_count": 4,
   "metadata": {},
   "outputs": [],
   "source": [
    "i = 0\n",
    "\n",
    "prior, samples = priors.numax_JHK(\n",
    "    df.loc[i, ['J', 'J_ERR']], \n",
    "    df.loc[i, ['H', 'H_ERR']],\n",
    "    df.loc[i, ['K', 'K_ERR']],\n",
    "    df.loc[i, ['GAIA_PARALLAX', 'GAIA_PARALLAX_ERROR']],\n",
    "    N_samples=10000,\n",
    ")"
   ]
  },
  {
   "cell_type": "code",
   "execution_count": 5,
   "metadata": {},
   "outputs": [
    {
     "data": {
      "text/plain": [
       "(array([  15.,   86.,  529., 1647., 2843., 2777., 1544.,  462.,   86.,\n",
       "          11.]),\n",
       " array([814.0212805 , 827.88679989, 841.75231929, 855.61783868,\n",
       "        869.48335807, 883.34887747, 897.21439686, 911.07991625,\n",
       "        924.94543565, 938.81095504, 952.67647444]),\n",
       " <BarContainer object of 10 artists>)"
      ]
     },
     "execution_count": 5,
     "metadata": {},
     "output_type": "execute_result"
    },
    {
     "data": {
      "image/png": "[encoded data removed]",
      "text/plain": [
       "<Figure size 432x288 with 1 Axes>"
      ]
     },
     "metadata": {
      "needs_background": "light"
     },
     "output_type": "display_data"
    }
   ],
   "source": [
    "plt.hist(samples)"
   ]
  },
  {
   "cell_type": "code",
   "execution_count": 6,
   "metadata": {},
   "outputs": [
    {
     "data": {
      "text/plain": [
       "(882.8122191299797, 17.87770969085056)"
      ]
     },
     "execution_count": 6,
     "metadata": {},
     "output_type": "execute_result"
    }
   ],
   "source": [
    "prior"
   ]
  },
  {
   "cell_type": "code",
   "execution_count": null,
   "metadata": {},
   "outputs": [],
   "source": []
  }
 ],
 "metadata": {
  "kernelspec": {
   "display_name": "Python 3 (Asteroestimate)",
   "language": "python",
   "name": "asteroestimate"
  },
  "language_info": {
   "codemirror_mode": {
    "name": "ipython",
    "version": 3
   },
   "file_extension": ".py",
   "mimetype": "text/x-python",
   "name": "python",
   "nbconvert_exporter": "python",
   "pygments_lexer": "ipython3",
   "version": "3.7.5"
  }
 },
 "nbformat": 4,
 "nbformat_minor": 2
}
